{
 "cells": [
  {
   "cell_type": "code",
   "execution_count": 1,
   "metadata": {},
   "outputs": [],
   "source": [
    "import requests\n",
    "import pandas as pd\n",
    "from datetime import datetime, timedelta"
   ]
  },
  {
   "cell_type": "code",
   "execution_count": 16,
   "metadata": {},
   "outputs": [],
   "source": [
    "base_url = 'https://olinda.bcb.gov.br/olinda/servico/MPV_DadosAbertos/versao/v1/odata/MeiosdePagamentosMensalDA(AnoMes=@AnoMes)?@AnoMes=%27201601%27&$format=json&$select=AnoMes,quantidadePix,valorPix,quantidadeTED,valorTED,quantidadeTEC,valorTEC,quantidadeCheque,valorCheque,quantidadeBoleto,valorBoleto,quantidadeDOC,valorDOC'\n",
    "\n",
    "response = requests.get(base_url)\n",
    "\n",
    "if response.status_code == 200:\n",
    "    data = response.json()\n",
    "    payment_methods = pd.DataFrame(data['value'])\n",
    "    \n",
    "\t# Translate column names from original in Brazilian Portuguese to English\n",
    "    column_mapping = {\n",
    "            \"AnoMes\": \"YearMonth\",\n",
    "            \"quantidadePix\": \"quantityPix\",\n",
    "            \"valorPix\": \"valuePix\",\n",
    "            \"quantidadeTED\": \"quantityTED\",\n",
    "            \"valorTED\": \"valueTED\",\n",
    "            \"quantidadeTEC\": \"quantityTEC\",\n",
    "            \"valorTEC\": \"valueTEC\",\n",
    "            \"quantidadeCheque\": \"quantityBankCheck\",\n",
    "            \"valorCheque\": \"valueBankCheck\",\n",
    "            \"quantidadeBoleto\": \"quantityBrazilianBoletoPayment\",\n",
    "            \"valorBoleto\": \"valueBrazilianBoletoPayment\",\n",
    "            \"quantidadeDOC\": \"quantityDOC\",\n",
    "            \"valorDOC\": \"valueDOC\"\n",
    "    }\n",
    "\n",
    "    # Rename DataFrame columns\n",
    "    payment_methods.rename(columns=column_mapping, inplace=True)\n",
    "    \n",
    "    # Save data in CSV file.\n",
    "    payment_methods.to_csv('brazilian_payment_methods.csv', index=False)\n",
    "    \n",
    "else:\n",
    "    print(f\"Request Error: {response.status_code}\")"
   ]
  }
 ],
 "metadata": {
  "kernelspec": {
   "display_name": "tudo",
   "language": "python",
   "name": "python3"
  },
  "language_info": {
   "codemirror_mode": {
    "name": "ipython",
    "version": 3
   },
   "file_extension": ".py",
   "mimetype": "text/x-python",
   "name": "python",
   "nbconvert_exporter": "python",
   "pygments_lexer": "ipython3",
   "version": "3.9.13"
  }
 },
 "nbformat": 4,
 "nbformat_minor": 2
}
